{
  "nbformat": 4,
  "nbformat_minor": 0,
  "metadata": {
    "colab": {
      "name": "Inventory Management System.ipynb",
      "provenance": [],
      "collapsed_sections": [],
      "authorship_tag": "ABX9TyOEFR1GlPt0AOUHSp+0YExc",
      "include_colab_link": true
    },
    "kernelspec": {
      "name": "python3",
      "display_name": "Python 3"
    },
    "language_info": {
      "name": "python"
    }
  },
  "cells": [
    {
      "cell_type": "markdown",
      "metadata": {
        "id": "view-in-github",
        "colab_type": "text"
      },
      "source": [
        "<a href=\"https://colab.research.google.com/github/vanshivam/Inventory-Management-System/blob/main/Inventory_Management_System.ipynb\" target=\"_parent\"><img src=\"https://colab.research.google.com/assets/colab-badge.svg\" alt=\"Open In Colab\"/></a>"
      ]
    },
    {
      "cell_type": "code",
      "metadata": {
        "id": "RDZzIhY0y_CY"
      },
      "source": [
        "store={50001: {'brand': 'coka-cola','expiry': '20 oct 2023','name': 'Coke 500ml','price': 153,'quan': 50},\n",
        "       50002: {'brand': 'Tata','expiry': '12 jan 2022','name': 'Tata Salt','price': 20,'quan': 130},\n",
        "       50003: {'brand': 'Red Label','expiry': '10 mar 2023','name': 'Red Label Tea','price': 48,'quan': 145},\n",
        "       50004: {'brand': 'Catch','expiry': '23 jun 2023','name': 'Catch Black Salt','price': 52,'quan': 122},\n",
        "       50005: {'brand': 'Davidoff','expiry': '30 oct 2022','name': 'Davidoff coffee','price': 285,'quan': 30},\n",
        "       50006: {'brand': 'Disano','expiry': '29 jan 2022','name': 'Disano Olive Oil','price': 207,'quan': 58},\n",
        "       50007: {'brand': 'Nestle','expiry': '31 aug 2022','name': 'Kitkat Desert','price': 55,'quan': 59},\n",
        "       50008: {'brand': 'Dark Fantasy','expiry': '21 feb 2022','name': 'Dark Fantasy Choco Fills','price': 90,'quan': 90},\n",
        "       50009: {'brand': 'Candyman Fantastik','expiry': '28 dec 2021','name': 'Candyman Fantasy','price': 80,'quan': 95},\n",
        "       50010: {'brand': 'Lotte','expiry': '01 jun 2022','name': 'Lotte Choco Pie','price': 110,'quan': 95},\n",
        "       50011: {'brand': 'Britania','expiry': '15 jul 2022','name': 'Britania Chocolate cake','price': 120,'quan': 100},\n",
        "       50012: {'brand': 'Pillsbury','expiry': '02 dec 2021','name': 'Pillsbury cookes cake','price': 90,'quan': 200},\n",
        "       50013: {'brand': 'Oreo','expiry': '30 dec 2021','name': 'Oreo Chocolate Biscut','price': 249,'quan': 120},\n",
        "       50014: {'brand': 'Sunfeast','expiry': '19 mar 2022','name': \"Mom's Magic Cashew\",'price': 80,'quan': 180},\n",
        "       50015: {'brand': 'Cadbury','expiry': '19 feb 2022','name': 'Cadbury Oreo chacolate','price': 60,'quan': 185},\n",
        "       50016: {'brand': 'Betty Croker','expiry': '15 jan 2022','name': 'Betty Croker Pancake','price': 346,'quan': 190},\n",
        "       50017: {'brand': 'Parle','expiry': '13 dec 2011','name': 'Parle G Original','price': 67,'quan': 140},\n",
        "       50018: {'brand': \"Lay's\", 'expiry': '14 feb 2023','name': 'Lays Potato Chips','price': 30,'quan': 450},\n",
        "       50019: {'brand': 'Bingo!','expiry': '20 dec 2023','name': 'Bingo! Mad Angle','price': 25,'quan': 440},\n",
        "       50020: {'brand': \"Kellog's\",'expiry': '25 jan 2024','name': \"Kellogg's pringles\",'price': 85,'quan': 400},\n",
        "       50021: {'brand': \"Dorito's\",'expiry': '22 jan 2023','name': \"Dorito's Nacho Chips\",'price': 90,'quan': 360},\n",
        "       50022: {'brand': 'Thums Up','expiry': '20 dec 2024','name': 'Thums Up Soft Drink','price': 40,'quan': 60},\n",
        "       50023: {'brand': 'Sprite','expiry': '20 nov 2023','name': 'Sprite Lime Flavor','price': 89,'quan': 40},\n",
        "       50024: {'brand': 'Colgate','expiry': '20 jun 2024','name': 'Colgate Maxfresh','price': 215,'quan': 55},\n",
        "       50025: {'brand': 'Pepsodent','expiry': '15 jul 2022','name': 'Pepsodent Gum Care','price': 300,'quan': 150},\n",
        "       50026: {'brand': 'Parachute','expiry': '10 aug 2024','name': 'Parachute Hair Oil','price': 247,'quan': 100},\n",
        "       50027: {'brand': 'Clinique','expiry': '31 jul 2022','name': 'Clinique Mosturizer','price': 2000,'quan': 98},\n",
        "       50028: {'brand': 'Himalaya','expiry': '22 may 2022','name': 'Himalaya Herbal Face wash','price': 104,'quan': 200},\n",
        "       50029: {'brand': 'Ponds','expiry': '31 may 2024','name': 'Ponds Powder','price': 450,'quan': 150},\n",
        "       50030: {'brand': 'Cadbury','expiry': '31 jan 2022','name': 'Dairy Milk Silk','price': 475,'quan': 50}\n",
        "}\n"
      ],
      "execution_count": 11,
      "outputs": []
    },
    {
      "cell_type": "code",
      "metadata": {
        "id": "uuHPDBTzzB54"
      },
      "source": [
        "import json\n",
        "data = json.dumps(store)\n",
        "\n",
        "fp = open(\"store.txt\", \"w\")\n",
        "fp.write(data)\n",
        "fp.close()"
      ],
      "execution_count": 12,
      "outputs": []
    },
    {
      "cell_type": "code",
      "metadata": {
        "colab": {
          "base_uri": "https://localhost:8080/",
          "height": 154
        },
        "id": "ZYVfYI9mzsJv",
        "outputId": "769acfd8-d7c8-43f4-c1a8-03dea40f9945"
      },
      "source": [
        "data"
      ],
      "execution_count": 13,
      "outputs": [
        {
          "output_type": "execute_result",
          "data": {
            "application/vnd.google.colaboratory.intrinsic+json": {
              "type": "string"
            },
            "text/plain": [
              "'{\"50001\": {\"brand\": \"coka-cola\", \"expiry\": \"20 oct 2023\", \"name\": \"Coke 500ml\", \"price\": 153, \"quan\": 50}, \"50002\": {\"brand\": \"Tata\", \"expiry\": \"12 jan 2022\", \"name\": \"Tata Salt\", \"price\": 20, \"quan\": 130}, \"50003\": {\"brand\": \"Red Label\", \"expiry\": \"10 mar 2023\", \"name\": \"Red Label Tea\", \"price\": 48, \"quan\": 145}, \"50004\": {\"brand\": \"Catch\", \"expiry\": \"23 jun 2023\", \"name\": \"Catch Black Salt\", \"price\": 52, \"quan\": 122}, \"50005\": {\"brand\": \"Davidoff\", \"expiry\": \"30 oct 2022\", \"name\": \"Davidoff coffee\", \"price\": 285, \"quan\": 30}, \"50006\": {\"brand\": \"Disano\", \"expiry\": \"29 jan 2022\", \"name\": \"Disano Olive Oil\", \"price\": 207, \"quan\": 58}, \"50007\": {\"brand\": \"Nestle\", \"expiry\": \"31 aug 2022\", \"name\": \"Kitkat Desert\", \"price\": 55, \"quan\": 59}, \"50008\": {\"brand\": \"Dark Fantasy\", \"expiry\": \"21 feb 2022\", \"name\": \"Dark Fantasy Choco Fills\", \"price\": 90, \"quan\": 90}, \"50009\": {\"brand\": \"Candyman Fantastik\", \"expiry\": \"28 dec 2021\", \"name\": \"Candyman Fantasy\", \"price\": 80, \"quan\": 95}, \"50010\": {\"brand\": \"Lotte\", \"expiry\": \"01 jun 2022\", \"name\": \"Lotte Choco Pie\", \"price\": 110, \"quan\": 95}, \"50011\": {\"brand\": \"Britania\", \"expiry\": \"15 jul 2022\", \"name\": \"Britania Chocolate cake\", \"price\": 120, \"quan\": 100}, \"50012\": {\"brand\": \"Pillsbury\", \"expiry\": \"02 dec 2021\", \"name\": \"Pillsbury cookes cake\", \"price\": 90, \"quan\": 200}, \"50013\": {\"brand\": \"Oreo\", \"expiry\": \"30 dec 2021\", \"name\": \"Oreo Chocolate Biscut\", \"price\": 249, \"quan\": 120}, \"50014\": {\"brand\": \"Sunfeast\", \"expiry\": \"19 mar 2022\", \"name\": \"Mom\\'s Magic Cashew\", \"price\": 80, \"quan\": 180}, \"50015\": {\"brand\": \"Cadbury\", \"expiry\": \"19 feb 2022\", \"name\": \"Cadbury Oreo chacolate\", \"price\": 60, \"quan\": 185}, \"50016\": {\"brand\": \"Betty Croker\", \"expiry\": \"15 jan 2022\", \"name\": \"Betty Croker Pancake\", \"price\": 346, \"quan\": 190}, \"50017\": {\"brand\": \"Parle\", \"expiry\": \"13 dec 2011\", \"name\": \"Parle G Original\", \"price\": 67, \"quan\": 140}, \"50018\": {\"brand\": \"Lay\\'s\", \"expiry\": \"14 feb 2023\", \"name\": \"Lays Potato Chips\", \"price\": 30, \"quan\": 450}, \"50019\": {\"brand\": \"Bingo!\", \"expiry\": \"20 dec 2023\", \"name\": \"Bingo! Mad Angle\", \"price\": 25, \"quan\": 440}, \"50020\": {\"brand\": \"Kellog\\'s\", \"expiry\": \"25 jan 2024\", \"name\": \"Kellogg\\'s pringles\", \"price\": 85, \"quan\": 400}, \"50021\": {\"brand\": \"Dorito\\'s\", \"expiry\": \"22 jan 2023\", \"name\": \"Dorito\\'s Nacho Chips\", \"price\": 90, \"quan\": 360}, \"50022\": {\"brand\": \"Thums Up\", \"expiry\": \"20 dec 2024\", \"name\": \"Thums Up Soft Drink\", \"price\": 40, \"quan\": 60}, \"50023\": {\"brand\": \"Sprite\", \"expiry\": \"20 nov 2023\", \"name\": \"Sprite Lime Flavor\", \"price\": 89, \"quan\": 40}, \"50024\": {\"brand\": \"Colgate\", \"expiry\": \"20 jun 2024\", \"name\": \"Colgate Maxfresh\", \"price\": 215, \"quan\": 55}, \"50025\": {\"brand\": \"Pepsodent\", \"expiry\": \"15 jul 2022\", \"name\": \"Pepsodent Gum Care\", \"price\": 300, \"quan\": 150}, \"50026\": {\"brand\": \"Parachute\", \"expiry\": \"10 aug 2024\", \"name\": \"Parachute Hair Oil\", \"price\": 247, \"quan\": 100}, \"50027\": {\"brand\": \"Clinique\", \"expiry\": \"31 jul 2022\", \"name\": \"Clinique Mosturizer\", \"price\": 2000, \"quan\": 98}, \"50028\": {\"brand\": \"Himalaya\", \"expiry\": \"22 may 2022\", \"name\": \"Himalaya Herbal Face wash\", \"price\": 104, \"quan\": 200}, \"50029\": {\"brand\": \"Ponds\", \"expiry\": \"31 may 2024\", \"name\": \"Ponds Powder\", \"price\": 450, \"quan\": 150}, \"50030\": {\"brand\": \"Cadbury\", \"expiry\": \"31 jan 2022\", \"name\": \"Dairy Milk Silk\", \"price\": 475, \"quan\": 50}}'"
            ]
          },
          "metadata": {},
          "execution_count": 13
        }
      ]
    },
    {
      "cell_type": "code",
      "metadata": {
        "id": "gCtJ-lBn0H6v"
      },
      "source": [
        "fp = open(\"store.txt\", \"r\")\n",
        "txt = fp.read()\n",
        "fp.close()"
      ],
      "execution_count": 14,
      "outputs": []
    },
    {
      "cell_type": "code",
      "metadata": {
        "colab": {
          "base_uri": "https://localhost:8080/"
        },
        "id": "wZZPF0Qw0Nwg",
        "outputId": "eb2d3080-79e3-4c7d-d5eb-9fee18568dd5"
      },
      "source": [
        "store[50030]"
      ],
      "execution_count": 15,
      "outputs": [
        {
          "output_type": "execute_result",
          "data": {
            "text/plain": [
              "{'brand': 'Cadbury',\n",
              " 'expiry': '31 jan 2022',\n",
              " 'name': 'Dairy Milk Silk',\n",
              " 'price': 475,\n",
              " 'quan': 50}"
            ]
          },
          "metadata": {},
          "execution_count": 15
        }
      ]
    },
    {
      "cell_type": "code",
      "metadata": {
        "id": "vnWc5T5t0NzH"
      },
      "source": [
        "store[50009]['quan']= 50"
      ],
      "execution_count": 16,
      "outputs": []
    },
    {
      "cell_type": "code",
      "metadata": {
        "colab": {
          "base_uri": "https://localhost:8080/"
        },
        "id": "UHy3bddk0N58",
        "outputId": "dae45dec-fec8-4b43-9d9d-7e4c42bfde10"
      },
      "source": [
        "item_details= 50021\n",
        "print(store[item_details]['name'])\n",
        "print(store[item_details]['price'])\n",
        "print(store[item_details]['quan'])\n",
        "print(store[item_details]['expiry'])\n",
        "print(store[item_details]['brand'])"
      ],
      "execution_count": 19,
      "outputs": [
        {
          "output_type": "stream",
          "name": "stdout",
          "text": [
            "Dorito's Nacho Chips\n",
            "90\n",
            "360\n",
            "22 jan 2023\n",
            "Dorito's\n"
          ]
        }
      ]
    },
    {
      "cell_type": "code",
      "metadata": {
        "id": "wEYuUnry0UAT"
      },
      "source": [
        "store[50002]['quan'] = store[50002]['quan'] - 55"
      ],
      "execution_count": 20,
      "outputs": []
    },
    {
      "cell_type": "code",
      "metadata": {
        "colab": {
          "base_uri": "https://localhost:8080/"
        },
        "id": "F0omDemI0UC2",
        "outputId": "3cfa7148-3223-40d2-8529-5381706b839b"
      },
      "source": [
        "store[50002]['quan']"
      ],
      "execution_count": 21,
      "outputs": [
        {
          "output_type": "execute_result",
          "data": {
            "text/plain": [
              "75"
            ]
          },
          "metadata": {},
          "execution_count": 21
        }
      ]
    },
    {
      "cell_type": "code",
      "metadata": {
        "id": "L-rQzjfe0juD"
      },
      "source": [
        "store[50018]['quan'] = store[50018]['quan'] - 150"
      ],
      "execution_count": 22,
      "outputs": []
    },
    {
      "cell_type": "code",
      "metadata": {
        "colab": {
          "base_uri": "https://localhost:8080/"
        },
        "id": "4-KoNMjI0jwx",
        "outputId": "dae535a6-f527-4404-e699-d44f0d266ce2"
      },
      "source": [
        "store[50018]['quan']\n"
      ],
      "execution_count": 23,
      "outputs": [
        {
          "output_type": "execute_result",
          "data": {
            "text/plain": [
              "300"
            ]
          },
          "metadata": {},
          "execution_count": 23
        }
      ]
    },
    {
      "cell_type": "code",
      "metadata": {
        "id": "l53EEm2w0j12"
      },
      "source": [
        "store[50028]['quan'] = store[50028]['quan'] - 40"
      ],
      "execution_count": 31,
      "outputs": []
    },
    {
      "cell_type": "code",
      "metadata": {
        "colab": {
          "base_uri": "https://localhost:8080/"
        },
        "id": "qUiYl9s70j6A",
        "outputId": "8b331b8f-7635-4c22-9805-26edc161fc22"
      },
      "source": [
        "store[50028]['quan']"
      ],
      "execution_count": 26,
      "outputs": [
        {
          "output_type": "execute_result",
          "data": {
            "text/plain": [
              "160"
            ]
          },
          "metadata": {},
          "execution_count": 26
        }
      ]
    },
    {
      "cell_type": "code",
      "metadata": {
        "colab": {
          "base_uri": "https://localhost:8080/"
        },
        "id": "dIkzE9sv0uNN",
        "outputId": "decee6ac-ed48-439d-b3ef-4cc273239c8a"
      },
      "source": [
        "store"
      ],
      "execution_count": 27,
      "outputs": [
        {
          "output_type": "execute_result",
          "data": {
            "text/plain": [
              "{50001: {'brand': 'coka-cola',\n",
              "  'expiry': '20 oct 2023',\n",
              "  'name': 'Coke 500ml',\n",
              "  'price': 153,\n",
              "  'quan': 50},\n",
              " 50002: {'brand': 'Tata',\n",
              "  'expiry': '12 jan 2022',\n",
              "  'name': 'Tata Salt',\n",
              "  'price': 20,\n",
              "  'quan': 75},\n",
              " 50003: {'brand': 'Red Label',\n",
              "  'expiry': '10 mar 2023',\n",
              "  'name': 'Red Label Tea',\n",
              "  'price': 48,\n",
              "  'quan': 145},\n",
              " 50004: {'brand': 'Catch',\n",
              "  'expiry': '23 jun 2023',\n",
              "  'name': 'Catch Black Salt',\n",
              "  'price': 52,\n",
              "  'quan': 122},\n",
              " 50005: {'brand': 'Davidoff',\n",
              "  'expiry': '30 oct 2022',\n",
              "  'name': 'Davidoff coffee',\n",
              "  'price': 285,\n",
              "  'quan': 30},\n",
              " 50006: {'brand': 'Disano',\n",
              "  'expiry': '29 jan 2022',\n",
              "  'name': 'Disano Olive Oil',\n",
              "  'price': 207,\n",
              "  'quan': 58},\n",
              " 50007: {'brand': 'Nestle',\n",
              "  'expiry': '31 aug 2022',\n",
              "  'name': 'Kitkat Desert',\n",
              "  'price': 55,\n",
              "  'quan': 59},\n",
              " 50008: {'brand': 'Dark Fantasy',\n",
              "  'expiry': '21 feb 2022',\n",
              "  'name': 'Dark Fantasy Choco Fills',\n",
              "  'price': 90,\n",
              "  'quan': 90},\n",
              " 50009: {'brand': 'Candyman Fantastik',\n",
              "  'expiry': '28 dec 2021',\n",
              "  'name': 'Candyman Fantasy',\n",
              "  'price': 80,\n",
              "  'quan': 50},\n",
              " 50010: {'brand': 'Lotte',\n",
              "  'expiry': '01 jun 2022',\n",
              "  'name': 'Lotte Choco Pie',\n",
              "  'price': 110,\n",
              "  'quan': 95},\n",
              " 50011: {'brand': 'Britania',\n",
              "  'expiry': '15 jul 2022',\n",
              "  'name': 'Britania Chocolate cake',\n",
              "  'price': 120,\n",
              "  'quan': 100},\n",
              " 50012: {'brand': 'Pillsbury',\n",
              "  'expiry': '02 dec 2021',\n",
              "  'name': 'Pillsbury cookes cake',\n",
              "  'price': 90,\n",
              "  'quan': 200},\n",
              " 50013: {'brand': 'Oreo',\n",
              "  'expiry': '30 dec 2021',\n",
              "  'name': 'Oreo Chocolate Biscut',\n",
              "  'price': 249,\n",
              "  'quan': 120},\n",
              " 50014: {'brand': 'Sunfeast',\n",
              "  'expiry': '19 mar 2022',\n",
              "  'name': \"Mom's Magic Cashew\",\n",
              "  'price': 80,\n",
              "  'quan': 180},\n",
              " 50015: {'brand': 'Cadbury',\n",
              "  'expiry': '19 feb 2022',\n",
              "  'name': 'Cadbury Oreo chacolate',\n",
              "  'price': 60,\n",
              "  'quan': 185},\n",
              " 50016: {'brand': 'Betty Croker',\n",
              "  'expiry': '15 jan 2022',\n",
              "  'name': 'Betty Croker Pancake',\n",
              "  'price': 346,\n",
              "  'quan': 190},\n",
              " 50017: {'brand': 'Parle',\n",
              "  'expiry': '13 dec 2011',\n",
              "  'name': 'Parle G Original',\n",
              "  'price': 67,\n",
              "  'quan': 140},\n",
              " 50018: {'brand': \"Lay's\",\n",
              "  'expiry': '14 feb 2023',\n",
              "  'name': 'Lays Potato Chips',\n",
              "  'price': 30,\n",
              "  'quan': 300},\n",
              " 50019: {'brand': 'Bingo!',\n",
              "  'expiry': '20 dec 2023',\n",
              "  'name': 'Bingo! Mad Angle',\n",
              "  'price': 25,\n",
              "  'quan': 440},\n",
              " 50020: {'brand': \"Kellog's\",\n",
              "  'expiry': '25 jan 2024',\n",
              "  'name': \"Kellogg's pringles\",\n",
              "  'price': 85,\n",
              "  'quan': 400},\n",
              " 50021: {'brand': \"Dorito's\",\n",
              "  'expiry': '22 jan 2023',\n",
              "  'name': \"Dorito's Nacho Chips\",\n",
              "  'price': 90,\n",
              "  'quan': 360},\n",
              " 50022: {'brand': 'Thums Up',\n",
              "  'expiry': '20 dec 2024',\n",
              "  'name': 'Thums Up Soft Drink',\n",
              "  'price': 40,\n",
              "  'quan': 60},\n",
              " 50023: {'brand': 'Sprite',\n",
              "  'expiry': '20 nov 2023',\n",
              "  'name': 'Sprite Lime Flavor',\n",
              "  'price': 89,\n",
              "  'quan': 40},\n",
              " 50024: {'brand': 'Colgate',\n",
              "  'expiry': '20 jun 2024',\n",
              "  'name': 'Colgate Maxfresh',\n",
              "  'price': 215,\n",
              "  'quan': 55},\n",
              " 50025: {'brand': 'Pepsodent',\n",
              "  'expiry': '15 jul 2022',\n",
              "  'name': 'Pepsodent Gum Care',\n",
              "  'price': 300,\n",
              "  'quan': 150},\n",
              " 50026: {'brand': 'Parachute',\n",
              "  'expiry': '10 aug 2024',\n",
              "  'name': 'Parachute Hair Oil',\n",
              "  'price': 247,\n",
              "  'quan': 100},\n",
              " 50027: {'brand': 'Clinique',\n",
              "  'expiry': '31 jul 2022',\n",
              "  'name': 'Clinique Mosturizer',\n",
              "  'price': 2000,\n",
              "  'quan': 98},\n",
              " 50028: {'brand': 'Himalaya',\n",
              "  'expiry': '22 may 2022',\n",
              "  'name': 'Himalaya Herbal Face wash',\n",
              "  'price': 104,\n",
              "  'quan': 160},\n",
              " 50029: {'brand': 'Ponds',\n",
              "  'expiry': '31 may 2024',\n",
              "  'name': 'Ponds Powder',\n",
              "  'price': 450,\n",
              "  'quan': 150},\n",
              " 50030: {'brand': 'Cadbury',\n",
              "  'expiry': '31 jan 2022',\n",
              "  'name': 'Dairy Milk Silk',\n",
              "  'price': 475,\n",
              "  'quan': 50}}"
            ]
          },
          "metadata": {},
          "execution_count": 27
        }
      ]
    },
    {
      "cell_type": "code",
      "metadata": {
        "colab": {
          "base_uri": "https://localhost:8080/"
        },
        "id": "P2eJbRCc0uP-",
        "outputId": "fab1abc9-3f67-4378-edc1-3a1cc138622a"
      },
      "source": [
        "prod_id = input(\"Enter the Product ID: \")\n",
        "name = input(\"Enter the Name of the Product: \")\n",
        "price = int(input(\"Enter the price per Item: \"))\n",
        "quan = int(input(\"Enter The Quantity of the Product you want to add: \"))\n",
        "expiry = input(\"Enter the expiry date of the Product: \")\n",
        "brand = input(\"Enter the Brand of the product: \")\n",
        "\n",
        "store[prod_id] = {\"name\":name,\"price\":price,\"quan\":quan,\"expiry\":expiry,\"brand\":brand}\n",
        "\n",
        "js = json.dumps(store)\n",
        "\n",
        "fd = open(\"store.json\",\"w\")\n",
        "fd.write(js)\n",
        "fd.close()"
      ],
      "execution_count": 33,
      "outputs": [
        {
          "name": "stdout",
          "output_type": "stream",
          "text": [
            "Enter the Product ID: 50031\n",
            "Enter the Name of the Product: Coffee\n",
            "Enter the price per Item: 450\n",
            "Enter The Quantity of the Product you want to add: 290\n",
            "Enter the expiry date of the Product: 2023\n",
            "Enter the Brand of the product: Nescafe\n"
          ]
        }
      ]
    }
  ]
}